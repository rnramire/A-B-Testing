{
 "cells": [
  {
   "cell_type": "code",
   "execution_count": 1,
   "metadata": {},
   "outputs": [],
   "source": [
    "# A/B Testing\n"
   ]
  },
  {
   "cell_type": "markdown",
   "metadata": {},
   "source": [
    "Took a sample dataset from Kaggle to run A/B testing with conversion rates."
   ]
  },
  {
   "cell_type": "code",
   "execution_count": 16,
   "metadata": {},
   "outputs": [],
   "source": [
    "## Packages imports\n",
    "import numpy as np\n",
    "import pandas as pd\n",
    "import scipy.stats as stats\n",
    "import statsmodels.stats.api as sms\n",
    "import matplotlib as mpl\n",
    "import matplotlib.pyplot as plt\n",
    "import seaborn as sns\n",
    "from math import ceil\n",
    "\n",
    "%matplotlib inline"
   ]
  },
  {
   "cell_type": "code",
   "execution_count": 17,
   "metadata": {},
   "outputs": [
    {
     "name": "stdout",
     "output_type": "stream",
     "text": [
      "   USER_ID VARIANT_NAME  REVENUE\n",
      "0      737      variant      0.0\n",
      "1     2423      control      0.0\n",
      "2     9411      control      0.0\n",
      "3     7311      control      0.0\n",
      "4     6174      variant      0.0\n",
      "   USER_ID VARIANT_NAME  REVENUE  revenue_true\n",
      "0      737      variant      0.0             0\n",
      "1     2423      control      0.0             0\n",
      "2     9411      control      0.0             0\n",
      "3     7311      control      0.0             0\n",
      "4     6174      variant      0.0             0\n"
     ]
    }
   ],
   "source": [
    "df = pd.read_csv(\"C:/Users/kashi/Downloads/AB_Test_Results.csv\")\n",
    "print(df.head())\n",
    "df['revenue_true'] = np.where(df['REVENUE'] > 0 , 1, 0)\n",
    "print(df.head())"
   ]
  },
  {
   "cell_type": "code",
   "execution_count": 18,
   "metadata": {},
   "outputs": [
    {
     "name": "stdout",
     "output_type": "stream",
     "text": [
      "719\n"
     ]
    }
   ],
   "source": [
    "effect_size = sms.proportion_effectsize(0.01, 0.03)\n",
    "\n",
    "required_n = sms.NormalIndPower().solve_power(\n",
    "    effect_size, \n",
    "    power=0.8, \n",
    "    alpha=0.05, \n",
    "    ratio=1\n",
    "    )        \n",
    "# Calculating sample size needed\n",
    "required_n = ceil(required_n) \n",
    "print(required_n)\n",
    "# We need 719 observations from control and variant"
   ]
  },
  {
   "cell_type": "code",
   "execution_count": 19,
   "metadata": {},
   "outputs": [
    {
     "name": "stdout",
     "output_type": "stream",
     "text": [
      "<class 'pandas.core.frame.DataFrame'>\n",
      "RangeIndex: 10000 entries, 0 to 9999\n",
      "Data columns (total 4 columns):\n",
      " #   Column        Non-Null Count  Dtype  \n",
      "---  ------        --------------  -----  \n",
      " 0   USER_ID       10000 non-null  int64  \n",
      " 1   VARIANT_NAME  10000 non-null  object \n",
      " 2   REVENUE       10000 non-null  float64\n",
      " 3   revenue_true  10000 non-null  int32  \n",
      "dtypes: float64(1), int32(1), int64(1), object(1)\n",
      "memory usage: 273.6+ KB\n"
     ]
    },
    {
     "data": {
      "text/plain": [
       "variant    719\n",
       "control    719\n",
       "Name: VARIANT_NAME, dtype: int64"
      ]
     },
     "execution_count": 19,
     "metadata": {},
     "output_type": "execute_result"
    }
   ],
   "source": [
    "df.info()\n",
    "control = df[df['VARIANT_NAME'] == 'control'].sample(n=required_n)\n",
    "variant = df[df['VARIANT_NAME'] == 'variant'].sample(n=required_n)\n",
    "\n",
    "ab_test = pd.concat([control, variant], axis=0)\n",
    "ab_test.reset_index(drop=True, inplace=True)\n",
    "ab_test\n",
    "\n",
    "ab_test['VARIANT_NAME'].value_counts()"
   ]
  },
  {
   "cell_type": "code",
   "execution_count": 20,
   "metadata": {},
   "outputs": [
    {
     "data": {
      "text/html": [
       "<style  type=\"text/css\" >\n",
       "</style><table id=\"T_e7b91d81_9b44_11ed_addd_c0b6f9cf93e1\" ><thead>    <tr>        <th class=\"blank level0\" ></th>        <th class=\"col_heading level0 col0\" >conversion_rate</th>        <th class=\"col_heading level0 col1\" >std_deviation</th>        <th class=\"col_heading level0 col2\" >std_error</th>    </tr>    <tr>        <th class=\"index_name level0\" >VARIANT_NAME</th>        <th class=\"blank\" ></th>        <th class=\"blank\" ></th>        <th class=\"blank\" ></th>    </tr></thead><tbody>\n",
       "                <tr>\n",
       "                        <th id=\"T_e7b91d81_9b44_11ed_addd_c0b6f9cf93e1level0_row0\" class=\"row_heading level0 row0\" >control</th>\n",
       "                        <td id=\"T_e7b91d81_9b44_11ed_addd_c0b6f9cf93e1row0_col0\" class=\"data row0 col0\" >0.015</td>\n",
       "                        <td id=\"T_e7b91d81_9b44_11ed_addd_c0b6f9cf93e1row0_col1\" class=\"data row0 col1\" >0.123</td>\n",
       "                        <td id=\"T_e7b91d81_9b44_11ed_addd_c0b6f9cf93e1row0_col2\" class=\"data row0 col2\" >0.005</td>\n",
       "            </tr>\n",
       "            <tr>\n",
       "                        <th id=\"T_e7b91d81_9b44_11ed_addd_c0b6f9cf93e1level0_row1\" class=\"row_heading level0 row1\" >variant</th>\n",
       "                        <td id=\"T_e7b91d81_9b44_11ed_addd_c0b6f9cf93e1row1_col0\" class=\"data row1 col0\" >0.010</td>\n",
       "                        <td id=\"T_e7b91d81_9b44_11ed_addd_c0b6f9cf93e1row1_col1\" class=\"data row1 col1\" >0.098</td>\n",
       "                        <td id=\"T_e7b91d81_9b44_11ed_addd_c0b6f9cf93e1row1_col2\" class=\"data row1 col2\" >0.004</td>\n",
       "            </tr>\n",
       "    </tbody></table>"
      ],
      "text/plain": [
       "<pandas.io.formats.style.Styler at 0x232aec49190>"
      ]
     },
     "execution_count": 20,
     "metadata": {},
     "output_type": "execute_result"
    }
   ],
   "source": [
    "conversion_rates = ab_test.groupby('VARIANT_NAME')['revenue_true']\n",
    "\n",
    "std_p = lambda x: np.std(x, ddof=0)              # Std. deviation of the proportion\n",
    "se_p = lambda x: stats.sem(x, ddof=0)            # Std. error of the proportion (std / sqrt(n))\n",
    "\n",
    "conversion_rates = conversion_rates.agg([np.mean, std_p, se_p])\n",
    "conversion_rates.columns = ['conversion_rate', 'std_deviation', 'std_error']\n",
    "\n",
    "\n",
    "conversion_rates.style.format('{:.3f}')"
   ]
  },
  {
   "cell_type": "code",
   "execution_count": 22,
   "metadata": {},
   "outputs": [
    {
     "data": {
      "image/png": "[encoded data removed]",
      "text/plain": [
       "<Figure size 576x432 with 1 Axes>"
      ]
     },
     "metadata": {
      "needs_background": "light"
     },
     "output_type": "display_data"
    }
   ],
   "source": [
    "plt.figure(figsize=(8,6))\n",
    "\n",
    "sns.barplot(x=ab_test['VARIANT_NAME'], y=ab_test['revenue_true'], ci=False)\n",
    "\n",
    "plt.ylim(0, 0.02)\n",
    "plt.title('Conversion rate by group', pad=20)\n",
    "plt.xlabel('Group', labelpad=15)\n",
    "plt.ylabel('Converted (proportion)', labelpad=15);"
   ]
  },
  {
   "cell_type": "code",
   "execution_count": 14,
   "metadata": {},
   "outputs": [
    {
     "name": "stdout",
     "output_type": "stream",
     "text": [
      "z statistic: 1.98\n",
      "p-value: 0.048\n",
      "ci 95% for control group: [0.010, 0.031]\n",
      "ci 95% for variant group: [0.002, 0.015]\n"
     ]
    }
   ],
   "source": [
    "from statsmodels.stats.proportion import proportions_ztest, proportion_confint\n",
    "control_results = ab_test[ab_test['VARIANT_NAME'] == 'control']['revenue_true']\n",
    "variant_results = ab_test[ab_test['VARIANT_NAME'] == 'variant']['revenue_true']\n",
    "n_con = control_results.count()\n",
    "n_treat = variant_results.count()\n",
    "successes = [control_results.sum(), variant_results.sum()]\n",
    "nobs = [n_con, n_treat]\n",
    "\n",
    "z_stat, pval = proportions_ztest(successes, nobs=nobs)\n",
    "(lower_con, lower_treat), (upper_con, upper_treat) = proportion_confint(successes, nobs=nobs, alpha=0.05)\n",
    "\n",
    "print(f'z statistic: {z_stat:.2f}')\n",
    "print(f'p-value: {pval:.3f}')\n",
    "print(f'ci 95% for control group: [{lower_con:.3f}, {upper_con:.3f}]')\n",
    "print(f'ci 95% for variant group: [{lower_treat:.3f}, {upper_treat:.3f}]')"
   ]
  }
 ],
 "metadata": {
  "kernelspec": {
   "display_name": "Python 3",
   "language": "python",
   "name": "python3"
  },
  "language_info": {
   "codemirror_mode": {
    "name": "ipython",
    "version": 3
   },
   "file_extension": ".py",
   "mimetype": "text/x-python",
   "name": "python",
   "nbconvert_exporter": "python",
   "pygments_lexer": "ipython3",
   "version": "3.8.5"
  }
 },
 "nbformat": 4,
 "nbformat_minor": 4
}
